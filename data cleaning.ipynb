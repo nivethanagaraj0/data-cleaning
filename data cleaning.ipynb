{
 "cells": [
  {
   "cell_type": "code",
   "execution_count": 11,
   "id": "c6a64ca3",
   "metadata": {},
   "outputs": [],
   "source": [
    "import pandas as pd\n",
    "import numpy as np\n"
   ]
  },
  {
   "cell_type": "code",
   "execution_count": 19,
   "id": "c0d440ee",
   "metadata": {},
   "outputs": [
    {
     "name": "stdout",
     "output_type": "stream",
     "text": [
      "<class 'pandas.core.frame.DataFrame'>\n",
      "RangeIndex: 10800 entries, 0 to 10799\n",
      "Data columns (total 10 columns):\n",
      " #   Column               Non-Null Count  Dtype \n",
      "---  ------               --------------  ----- \n",
      " 0   AVGHEARTBEATSPERMIN  10800 non-null  int64 \n",
      " 1   PALPITATIONSPERDAY   10800 non-null  int64 \n",
      " 2   CHOLESTEROL          10800 non-null  int64 \n",
      " 3   BMI                  10800 non-null  int64 \n",
      " 4   HEART_DISEASE        10800 non-null  object\n",
      " 5   AGE                  10800 non-null  int64 \n",
      " 6   SEX                  10800 non-null  object\n",
      " 7   FAMILYHISTORY        10800 non-null  object\n",
      " 8   SMOKERLAST5YRS       10800 non-null  object\n",
      " 9   EXERCISEMINPERWEEK   10800 non-null  int64 \n",
      "dtypes: int64(6), object(4)\n",
      "memory usage: 843.9+ KB\n"
     ]
    }
   ],
   "source": [
    "data = pd.read_csv(\"C:\\\\Users\\\\Nivetha.N\\\\Downloads\\\\datasets\\\\titanic\\\\Heart patient's data.csv\")\n",
    "data.info()\n"
   ]
  },
  {
   "cell_type": "code",
   "execution_count": 22,
   "id": "7b20f4b3",
   "metadata": {},
   "outputs": [
    {
     "data": {
      "text/plain": [
       "AVGHEARTBEATSPERMIN    False\n",
       "PALPITATIONSPERDAY     False\n",
       "CHOLESTEROL            False\n",
       "BMI                    False\n",
       "HEART_DISEASE          False\n",
       "AGE                    False\n",
       "SEX                    False\n",
       "FAMILYHISTORY          False\n",
       "SMOKERLAST5YRS         False\n",
       "EXERCISEMINPERWEEK     False\n",
       "dtype: bool"
      ]
     },
     "execution_count": 22,
     "metadata": {},
     "output_type": "execute_result"
    }
   ],
   "source": [
    "data.isnull().any()"
   ]
  },
  {
   "cell_type": "code",
   "execution_count": 13,
   "id": "9cae54eb",
   "metadata": {},
   "outputs": [
    {
     "name": "stdout",
     "output_type": "stream",
     "text": [
      "AVGHEARTBEATSPERMIN    0\n",
      "PALPITATIONSPERDAY     0\n",
      "CHOLESTEROL            0\n",
      "BMI                    0\n",
      "HEART_DISEASE          0\n",
      "AGE                    0\n",
      "SEX                    0\n",
      "FAMILYHISTORY          0\n",
      "SMOKERLAST5YRS         0\n",
      "EXERCISEMINPERWEEK     0\n",
      "dtype: int64\n"
     ]
    }
   ],
   "source": [
    "missing_values = data.isnull().sum()\n",
    "print(missing_values)"
   ]
  },
  {
   "cell_type": "code",
   "execution_count": 14,
   "id": "c327279f",
   "metadata": {},
   "outputs": [],
   "source": [
    "data = data.dropna()\n",
    "data.fillna(data.mean(), inplace=True)"
   ]
  },
  {
   "cell_type": "code",
   "execution_count": 15,
   "id": "8773a647",
   "metadata": {},
   "outputs": [],
   "source": [
    "from scipy.stats import zscore\n",
    "z_scores = np.abs(zscore(data.select_dtypes(include=np.number)))\n",
    "outlier_threshold = 3\n",
    "data = data[(z_scores < outlier_threshold).all(axis=1)]"
   ]
  },
  {
   "cell_type": "code",
   "execution_count": 20,
   "id": "53d02691",
   "metadata": {},
   "outputs": [],
   "source": [
    "data.to_csv(\"Heart patient's data.csv\", index=False)"
   ]
  },
  {
   "cell_type": "code",
   "execution_count": 23,
   "id": "b8846aaa",
   "metadata": {},
   "outputs": [
    {
     "name": "stdout",
     "output_type": "stream",
     "text": [
      "<class 'pandas.core.frame.DataFrame'>\n",
      "RangeIndex: 10800 entries, 0 to 10799\n",
      "Data columns (total 10 columns):\n",
      " #   Column               Non-Null Count  Dtype \n",
      "---  ------               --------------  ----- \n",
      " 0   AVGHEARTBEATSPERMIN  10800 non-null  int64 \n",
      " 1   PALPITATIONSPERDAY   10800 non-null  int64 \n",
      " 2   CHOLESTEROL          10800 non-null  int64 \n",
      " 3   BMI                  10800 non-null  int64 \n",
      " 4   HEART_DISEASE        10800 non-null  object\n",
      " 5   AGE                  10800 non-null  int64 \n",
      " 6   SEX                  10800 non-null  object\n",
      " 7   FAMILYHISTORY        10800 non-null  object\n",
      " 8   SMOKERLAST5YRS       10800 non-null  object\n",
      " 9   EXERCISEMINPERWEEK   10800 non-null  int64 \n",
      "dtypes: int64(6), object(4)\n",
      "memory usage: 843.9+ KB\n"
     ]
    }
   ],
   "source": [
    "data.info()\n"
   ]
  },
  {
   "cell_type": "code",
   "execution_count": 24,
   "id": "599e8ed4",
   "metadata": {},
   "outputs": [
    {
     "data": {
      "text/html": [
       "<div>\n",
       "<style scoped>\n",
       "    .dataframe tbody tr th:only-of-type {\n",
       "        vertical-align: middle;\n",
       "    }\n",
       "\n",
       "    .dataframe tbody tr th {\n",
       "        vertical-align: top;\n",
       "    }\n",
       "\n",
       "    .dataframe thead th {\n",
       "        text-align: right;\n",
       "    }\n",
       "</style>\n",
       "<table border=\"1\" class=\"dataframe\">\n",
       "  <thead>\n",
       "    <tr style=\"text-align: right;\">\n",
       "      <th></th>\n",
       "      <th>AVGHEARTBEATSPERMIN</th>\n",
       "      <th>PALPITATIONSPERDAY</th>\n",
       "      <th>CHOLESTEROL</th>\n",
       "      <th>BMI</th>\n",
       "      <th>HEART_DISEASE</th>\n",
       "      <th>AGE</th>\n",
       "      <th>SEX</th>\n",
       "      <th>FAMILYHISTORY</th>\n",
       "      <th>SMOKERLAST5YRS</th>\n",
       "      <th>EXERCISEMINPERWEEK</th>\n",
       "    </tr>\n",
       "  </thead>\n",
       "  <tbody>\n",
       "    <tr>\n",
       "      <th>0</th>\n",
       "      <td>93</td>\n",
       "      <td>22</td>\n",
       "      <td>163</td>\n",
       "      <td>25</td>\n",
       "      <td>N</td>\n",
       "      <td>49</td>\n",
       "      <td>F</td>\n",
       "      <td>N</td>\n",
       "      <td>N</td>\n",
       "      <td>110</td>\n",
       "    </tr>\n",
       "    <tr>\n",
       "      <th>1</th>\n",
       "      <td>108</td>\n",
       "      <td>22</td>\n",
       "      <td>181</td>\n",
       "      <td>24</td>\n",
       "      <td>N</td>\n",
       "      <td>32</td>\n",
       "      <td>F</td>\n",
       "      <td>N</td>\n",
       "      <td>N</td>\n",
       "      <td>192</td>\n",
       "    </tr>\n",
       "    <tr>\n",
       "      <th>2</th>\n",
       "      <td>86</td>\n",
       "      <td>0</td>\n",
       "      <td>239</td>\n",
       "      <td>20</td>\n",
       "      <td>N</td>\n",
       "      <td>60</td>\n",
       "      <td>F</td>\n",
       "      <td>N</td>\n",
       "      <td>N</td>\n",
       "      <td>121</td>\n",
       "    </tr>\n",
       "    <tr>\n",
       "      <th>3</th>\n",
       "      <td>80</td>\n",
       "      <td>36</td>\n",
       "      <td>164</td>\n",
       "      <td>31</td>\n",
       "      <td>Y</td>\n",
       "      <td>45</td>\n",
       "      <td>F</td>\n",
       "      <td>Y</td>\n",
       "      <td>N</td>\n",
       "      <td>141</td>\n",
       "    </tr>\n",
       "    <tr>\n",
       "      <th>4</th>\n",
       "      <td>66</td>\n",
       "      <td>36</td>\n",
       "      <td>185</td>\n",
       "      <td>23</td>\n",
       "      <td>N</td>\n",
       "      <td>39</td>\n",
       "      <td>F</td>\n",
       "      <td>N</td>\n",
       "      <td>N</td>\n",
       "      <td>63</td>\n",
       "    </tr>\n",
       "    <tr>\n",
       "      <th>...</th>\n",
       "      <td>...</td>\n",
       "      <td>...</td>\n",
       "      <td>...</td>\n",
       "      <td>...</td>\n",
       "      <td>...</td>\n",
       "      <td>...</td>\n",
       "      <td>...</td>\n",
       "      <td>...</td>\n",
       "      <td>...</td>\n",
       "      <td>...</td>\n",
       "    </tr>\n",
       "    <tr>\n",
       "      <th>10795</th>\n",
       "      <td>122</td>\n",
       "      <td>27</td>\n",
       "      <td>203</td>\n",
       "      <td>30</td>\n",
       "      <td>N</td>\n",
       "      <td>31</td>\n",
       "      <td>F</td>\n",
       "      <td>N</td>\n",
       "      <td>N</td>\n",
       "      <td>246</td>\n",
       "    </tr>\n",
       "    <tr>\n",
       "      <th>10796</th>\n",
       "      <td>67</td>\n",
       "      <td>15</td>\n",
       "      <td>186</td>\n",
       "      <td>25</td>\n",
       "      <td>N</td>\n",
       "      <td>54</td>\n",
       "      <td>F</td>\n",
       "      <td>N</td>\n",
       "      <td>N</td>\n",
       "      <td>189</td>\n",
       "    </tr>\n",
       "    <tr>\n",
       "      <th>10797</th>\n",
       "      <td>103</td>\n",
       "      <td>6</td>\n",
       "      <td>211</td>\n",
       "      <td>20</td>\n",
       "      <td>N</td>\n",
       "      <td>40</td>\n",
       "      <td>F</td>\n",
       "      <td>N</td>\n",
       "      <td>N</td>\n",
       "      <td>205</td>\n",
       "    </tr>\n",
       "    <tr>\n",
       "      <th>10798</th>\n",
       "      <td>99</td>\n",
       "      <td>30</td>\n",
       "      <td>152</td>\n",
       "      <td>27</td>\n",
       "      <td>N</td>\n",
       "      <td>32</td>\n",
       "      <td>M</td>\n",
       "      <td>N</td>\n",
       "      <td>N</td>\n",
       "      <td>211</td>\n",
       "    </tr>\n",
       "    <tr>\n",
       "      <th>10799</th>\n",
       "      <td>50</td>\n",
       "      <td>31</td>\n",
       "      <td>232</td>\n",
       "      <td>26</td>\n",
       "      <td>N</td>\n",
       "      <td>40</td>\n",
       "      <td>F</td>\n",
       "      <td>N</td>\n",
       "      <td>N</td>\n",
       "      <td>54</td>\n",
       "    </tr>\n",
       "  </tbody>\n",
       "</table>\n",
       "<p>10800 rows × 10 columns</p>\n",
       "</div>"
      ],
      "text/plain": [
       "       AVGHEARTBEATSPERMIN  PALPITATIONSPERDAY  CHOLESTEROL  BMI  \\\n",
       "0                       93                  22          163   25   \n",
       "1                      108                  22          181   24   \n",
       "2                       86                   0          239   20   \n",
       "3                       80                  36          164   31   \n",
       "4                       66                  36          185   23   \n",
       "...                    ...                 ...          ...  ...   \n",
       "10795                  122                  27          203   30   \n",
       "10796                   67                  15          186   25   \n",
       "10797                  103                   6          211   20   \n",
       "10798                   99                  30          152   27   \n",
       "10799                   50                  31          232   26   \n",
       "\n",
       "      HEART_DISEASE  AGE SEX FAMILYHISTORY SMOKERLAST5YRS  EXERCISEMINPERWEEK  \n",
       "0                 N   49   F             N              N                 110  \n",
       "1                 N   32   F             N              N                 192  \n",
       "2                 N   60   F             N              N                 121  \n",
       "3                 Y   45   F             Y              N                 141  \n",
       "4                 N   39   F             N              N                  63  \n",
       "...             ...  ...  ..           ...            ...                 ...  \n",
       "10795             N   31   F             N              N                 246  \n",
       "10796             N   54   F             N              N                 189  \n",
       "10797             N   40   F             N              N                 205  \n",
       "10798             N   32   M             N              N                 211  \n",
       "10799             N   40   F             N              N                  54  \n",
       "\n",
       "[10800 rows x 10 columns]"
      ]
     },
     "execution_count": 24,
     "metadata": {},
     "output_type": "execute_result"
    }
   ],
   "source": [
    "data"
   ]
  },
  {
   "cell_type": "code",
   "execution_count": null,
   "id": "96388750",
   "metadata": {},
   "outputs": [],
   "source": []
  },
  {
   "cell_type": "code",
   "execution_count": null,
   "id": "51815121",
   "metadata": {},
   "outputs": [],
   "source": [
    "\n"
   ]
  }
 ],
 "metadata": {
  "kernelspec": {
   "display_name": "Python 3",
   "language": "python",
   "name": "python3"
  },
  "language_info": {
   "codemirror_mode": {
    "name": "ipython",
    "version": 3
   },
   "file_extension": ".py",
   "mimetype": "text/x-python",
   "name": "python",
   "nbconvert_exporter": "python",
   "pygments_lexer": "ipython3",
   "version": "3.8.8"
  }
 },
 "nbformat": 4,
 "nbformat_minor": 5
}
